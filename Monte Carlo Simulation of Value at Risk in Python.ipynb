{
 "cells": [
  {
   "cell_type": "code",
   "execution_count": 23,
   "metadata": {},
   "outputs": [],
   "source": [
    "import pandas as pd\n",
    "import numpy as np\n",
    "import datetime\n",
    "from scipy import stats\n",
    "import quandl\n",
    "import matplotlib.pyplot as plt\n",
    "%matplotlib inline\n",
    "quandl.ApiConfig.api_key = '8bbPKo8xjyoors-yMfr-'"
   ]
  },
  {
   "cell_type": "code",
   "execution_count": 24,
   "metadata": {},
   "outputs": [],
   "source": [
    "end = datetime.datetime.now()\n",
    "start = end - datetime.timedelta(365)\n",
    "AAPL = quandl.get('XNAS/AAPL')"
   ]
  },
  {
   "cell_type": "code",
   "execution_count": 25,
   "metadata": {},
   "outputs": [
    {
     "data": {
      "text/html": [
       "<div>\n",
       "<style scoped>\n",
       "    .dataframe tbody tr th:only-of-type {\n",
       "        vertical-align: middle;\n",
       "    }\n",
       "\n",
       "    .dataframe tbody tr th {\n",
       "        vertical-align: top;\n",
       "    }\n",
       "\n",
       "    .dataframe thead th {\n",
       "        text-align: right;\n",
       "    }\n",
       "</style>\n",
       "<table border=\"1\" class=\"dataframe\">\n",
       "  <thead>\n",
       "    <tr style=\"text-align: right;\">\n",
       "      <th></th>\n",
       "      <th>Open</th>\n",
       "      <th>High</th>\n",
       "      <th>Low</th>\n",
       "      <th>Close</th>\n",
       "      <th>Volume</th>\n",
       "      <th>Adjustment Factor</th>\n",
       "      <th>Adjustment Type</th>\n",
       "    </tr>\n",
       "    <tr>\n",
       "      <th>Date</th>\n",
       "      <th></th>\n",
       "      <th></th>\n",
       "      <th></th>\n",
       "      <th></th>\n",
       "      <th></th>\n",
       "      <th></th>\n",
       "      <th></th>\n",
       "    </tr>\n",
       "  </thead>\n",
       "  <tbody>\n",
       "    <tr>\n",
       "      <th>2010-01-01</th>\n",
       "      <td>26.077332</td>\n",
       "      <td>26.077332</td>\n",
       "      <td>26.077332</td>\n",
       "      <td>26.077332</td>\n",
       "      <td>0.000000e+00</td>\n",
       "      <td>NaN</td>\n",
       "      <td>NaN</td>\n",
       "    </tr>\n",
       "    <tr>\n",
       "      <th>2010-01-04</th>\n",
       "      <td>26.410008</td>\n",
       "      <td>26.527496</td>\n",
       "      <td>26.270260</td>\n",
       "      <td>26.487921</td>\n",
       "      <td>3.813493e+07</td>\n",
       "      <td>NaN</td>\n",
       "      <td>NaN</td>\n",
       "    </tr>\n",
       "    <tr>\n",
       "      <th>2010-01-05</th>\n",
       "      <td>26.563361</td>\n",
       "      <td>26.662298</td>\n",
       "      <td>26.374144</td>\n",
       "      <td>26.512655</td>\n",
       "      <td>4.261566e+07</td>\n",
       "      <td>NaN</td>\n",
       "      <td>NaN</td>\n",
       "    </tr>\n",
       "    <tr>\n",
       "      <th>2010-01-06</th>\n",
       "      <td>26.510182</td>\n",
       "      <td>26.614066</td>\n",
       "      <td>26.063729</td>\n",
       "      <td>26.090936</td>\n",
       "      <td>4.698684e+07</td>\n",
       "      <td>NaN</td>\n",
       "      <td>NaN</td>\n",
       "    </tr>\n",
       "    <tr>\n",
       "      <th>2010-01-07</th>\n",
       "      <td>26.178743</td>\n",
       "      <td>26.218318</td>\n",
       "      <td>25.854724</td>\n",
       "      <td>26.042704</td>\n",
       "      <td>3.640412e+07</td>\n",
       "      <td>NaN</td>\n",
       "      <td>NaN</td>\n",
       "    </tr>\n",
       "    <tr>\n",
       "      <th>...</th>\n",
       "      <td>...</td>\n",
       "      <td>...</td>\n",
       "      <td>...</td>\n",
       "      <td>...</td>\n",
       "      <td>...</td>\n",
       "      <td>...</td>\n",
       "      <td>...</td>\n",
       "    </tr>\n",
       "    <tr>\n",
       "      <th>2018-12-25</th>\n",
       "      <td>143.924425</td>\n",
       "      <td>143.924425</td>\n",
       "      <td>143.924425</td>\n",
       "      <td>143.924425</td>\n",
       "      <td>0.000000e+00</td>\n",
       "      <td>NaN</td>\n",
       "      <td>NaN</td>\n",
       "    </tr>\n",
       "    <tr>\n",
       "      <th>2018-12-26</th>\n",
       "      <td>145.267314</td>\n",
       "      <td>154.118622</td>\n",
       "      <td>143.836206</td>\n",
       "      <td>154.059809</td>\n",
       "      <td>1.554654e+07</td>\n",
       "      <td>NaN</td>\n",
       "      <td>NaN</td>\n",
       "    </tr>\n",
       "    <tr>\n",
       "      <th>2018-12-27</th>\n",
       "      <td>153.040390</td>\n",
       "      <td>153.608912</td>\n",
       "      <td>147.100309</td>\n",
       "      <td>153.059994</td>\n",
       "      <td>1.462090e+07</td>\n",
       "      <td>NaN</td>\n",
       "      <td>NaN</td>\n",
       "    </tr>\n",
       "    <tr>\n",
       "      <th>2018-12-28</th>\n",
       "      <td>154.363675</td>\n",
       "      <td>155.373293</td>\n",
       "      <td>151.491656</td>\n",
       "      <td>153.138411</td>\n",
       "      <td>9.040757e+06</td>\n",
       "      <td>NaN</td>\n",
       "      <td>NaN</td>\n",
       "    </tr>\n",
       "    <tr>\n",
       "      <th>2018-12-31</th>\n",
       "      <td>155.392897</td>\n",
       "      <td>156.196670</td>\n",
       "      <td>153.412870</td>\n",
       "      <td>154.618530</td>\n",
       "      <td>9.130268e+06</td>\n",
       "      <td>NaN</td>\n",
       "      <td>NaN</td>\n",
       "    </tr>\n",
       "  </tbody>\n",
       "</table>\n",
       "<p>2347 rows × 7 columns</p>\n",
       "</div>"
      ],
      "text/plain": [
       "                  Open        High         Low       Close        Volume  \\\n",
       "Date                                                                       \n",
       "2010-01-01   26.077332   26.077332   26.077332   26.077332  0.000000e+00   \n",
       "2010-01-04   26.410008   26.527496   26.270260   26.487921  3.813493e+07   \n",
       "2010-01-05   26.563361   26.662298   26.374144   26.512655  4.261566e+07   \n",
       "2010-01-06   26.510182   26.614066   26.063729   26.090936  4.698684e+07   \n",
       "2010-01-07   26.178743   26.218318   25.854724   26.042704  3.640412e+07   \n",
       "...                ...         ...         ...         ...           ...   \n",
       "2018-12-25  143.924425  143.924425  143.924425  143.924425  0.000000e+00   \n",
       "2018-12-26  145.267314  154.118622  143.836206  154.059809  1.554654e+07   \n",
       "2018-12-27  153.040390  153.608912  147.100309  153.059994  1.462090e+07   \n",
       "2018-12-28  154.363675  155.373293  151.491656  153.138411  9.040757e+06   \n",
       "2018-12-31  155.392897  156.196670  153.412870  154.618530  9.130268e+06   \n",
       "\n",
       "            Adjustment Factor  Adjustment Type  \n",
       "Date                                            \n",
       "2010-01-01                NaN              NaN  \n",
       "2010-01-04                NaN              NaN  \n",
       "2010-01-05                NaN              NaN  \n",
       "2010-01-06                NaN              NaN  \n",
       "2010-01-07                NaN              NaN  \n",
       "...                       ...              ...  \n",
       "2018-12-25                NaN              NaN  \n",
       "2018-12-26                NaN              NaN  \n",
       "2018-12-27                NaN              NaN  \n",
       "2018-12-28                NaN              NaN  \n",
       "2018-12-31                NaN              NaN  \n",
       "\n",
       "[2347 rows x 7 columns]"
      ]
     },
     "execution_count": 25,
     "metadata": {},
     "output_type": "execute_result"
    }
   ],
   "source": [
    "AAPL"
   ]
  },
  {
   "cell_type": "code",
   "execution_count": 26,
   "metadata": {},
   "outputs": [],
   "source": [
    "rets_1 = (AAPL['Close']/AAPL['Close'].shift(1))-1"
   ]
  },
  {
   "cell_type": "code",
   "execution_count": 27,
   "metadata": {},
   "outputs": [
    {
     "name": "stdout",
     "output_type": "stream",
     "text": [
      "0.0008868825666440934 0.01598176017325444 -2.3263478740408408 154.61853\n"
     ]
    }
   ],
   "source": [
    "mean = np.mean(rets_1)\n",
    "std = np.std(rets_1)\n",
    "Z_99 = stats.norm.ppf(1-0.99)\n",
    "price = AAPL.iloc[-1]['Close']\n",
    "print(mean, std, Z_99, price)"
   ]
  },
  {
   "cell_type": "code",
   "execution_count": 28,
   "metadata": {},
   "outputs": [
    {
     "name": "stdout",
     "output_type": "stream",
     "text": [
      "Parametric VAR is -5.749 and Historical VAR is -6.748\n"
     ]
    }
   ],
   "source": [
    "ParamVAR = price*Z_99*std\n",
    "HistVAR = price*np.percentile(rets_1.dropna(), 1)\n",
    "\n",
    "print('Parametric VAR is {0:.3f} and Historical VAR is {1:.3f}'\n",
    "      .format(ParamVAR, HistVAR))"
   ]
  },
  {
   "cell_type": "code",
   "execution_count": 29,
   "metadata": {},
   "outputs": [
    {
     "name": "stdout",
     "output_type": "stream",
     "text": [
      "Simulated VAR is  -5.621133460311779\n"
     ]
    }
   ],
   "source": [
    "np.random.seed(42)\n",
    "n_sims = 1000000\n",
    "sim_returns = np.random.normal(mean, std, n_sims)\n",
    "SimVAR = price*np.percentile(sim_returns, 1)\n",
    "print('Simulated VAR is ', SimVAR)"
   ]
  },
  {
   "cell_type": "code",
   "execution_count": 30,
   "metadata": {},
   "outputs": [
    {
     "data": {
      "text/plain": [
       "(array([4.50000e+01, 1.64900e+03, 2.25540e+04, 1.28541e+05, 3.17671e+05,\n",
       "        3.39091e+05, 1.56728e+05, 3.09800e+04, 2.66200e+03, 7.90000e+01]),\n",
       " array([-0.07629601, -0.06109993, -0.04590386, -0.03070779, -0.01551171,\n",
       "        -0.00031564,  0.01488043,  0.03007651,  0.04527258,  0.06046865,\n",
       "         0.07566472]),\n",
       " <a list of 10 Patch objects>)"
      ]
     },
     "execution_count": 30,
     "metadata": {},
     "output_type": "execute_result"
    },
    {
     "data": {
      "image/png": "[encoded data removed]",
      "text/plain": [
       "<Figure size 432x288 with 1 Axes>"
      ]
     },
     "metadata": {
      "needs_background": "light"
     },
     "output_type": "display_data"
    }
   ],
   "source": [
    "plt.hist(sim_returns)"
   ]
  },
  {
   "cell_type": "code",
   "execution_count": null,
   "metadata": {},
   "outputs": [],
   "source": []
  }
 ],
 "metadata": {
  "kernelspec": {
   "display_name": "Python 3",
   "language": "python",
   "name": "python3"
  },
  "language_info": {
   "codemirror_mode": {
    "name": "ipython",
    "version": 3
   },
   "file_extension": ".py",
   "mimetype": "text/x-python",
   "name": "python",
   "nbconvert_exporter": "python",
   "pygments_lexer": "ipython3",
   "version": "3.7.6"
  }
 },
 "nbformat": 4,
 "nbformat_minor": 4
}
