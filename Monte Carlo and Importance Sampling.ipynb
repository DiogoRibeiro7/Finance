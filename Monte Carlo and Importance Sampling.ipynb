{
 "cells": [
  {
   "cell_type": "markdown",
   "metadata": {},
   "source": [
    "# Example Script for Monte Carlo and Importance \n",
    "The purpose of this notebook is to suplement my tutorial on Monte Carlo and importance sampling. Feel free to use and adapt any of these functions for your own numeric simulations."
   ]
  },
  {
   "cell_type": "code",
   "execution_count": 1,
   "metadata": {},
   "outputs": [],
   "source": [
    "import numpy as np\n",
    "import math\n",
    "import random\n",
    "from matplotlib import pyplot as plt\n",
    "from IPython.display import clear_output\n",
    "\n",
    "PI = 3.1415926\n",
    "e = 2.71828"
   ]
  },
  {
   "cell_type": "markdown",
   "metadata": {},
   "source": [
    "## Baseline Functions"
   ]
  },
  {
   "cell_type": "code",
   "execution_count": 2,
   "metadata": {},
   "outputs": [],
   "source": [
    "# let's define some helper functions for later\n",
    "\n",
    "def get_rand_number(min_value, max_value):\n",
    "    \"\"\"\n",
    "    This functions gets a random number from a uniform distribution between\n",
    "    the two input values [min_value, max_value] inclusively\n",
    "    Args:\n",
    "    - min_value (float)\n",
    "    - max_value (float)\n",
    "    Return:\n",
    "    - Random number between this range (float)\n",
    "    \"\"\"\n",
    "    range = max_value - min_value\n",
    "    choice = random.uniform(0,1)\n",
    "    return min_value + range*choice"
   ]
  },
  {
   "cell_type": "code",
   "execution_count": 3,
   "metadata": {},
   "outputs": [],
   "source": [
    "# lets also define the function we want to integrate over f(x)\n",
    "\n",
    "def f_of_x(x):\n",
    "    \"\"\"\n",
    "    This is the main function we want to integrate over.\n",
    "    Args:\n",
    "    - x (float) : input to function; must be in radians\n",
    "    Return:\n",
    "    - output of function f(x) (float)\n",
    "    \"\"\"\n",
    "    return (e**(-1*x))/(1+(x-1)**2)"
   ]
  },
  {
   "cell_type": "markdown",
   "metadata": {},
   "source": [
    "# Crude Monte Carlo"
   ]
  },
  {
   "cell_type": "code",
   "execution_count": 4,
   "metadata": {},
   "outputs": [],
   "source": [
    "def crude_monte_carlo(num_samples=5000):\n",
    "    \"\"\"\n",
    "    This function performs the Crude Monte Carlo for our\n",
    "    specific function f(x) on the range x=0 to x=5.\n",
    "    Notice that this bound is sufficient because f(x)\n",
    "    approaches 0 at around PI.\n",
    "    Args:\n",
    "    - num_samples (float) : number of samples\n",
    "    Return:\n",
    "    - Crude Monte Carlo estimation (float)\n",
    "    \n",
    "    \"\"\"\n",
    "    lower_bound = 0\n",
    "    upper_bound = 5\n",
    "    \n",
    "    sum_of_samples = 0\n",
    "    for i in range(num_samples):\n",
    "        x = get_rand_number(lower_bound, upper_bound)\n",
    "        sum_of_samples += f_of_x(x)\n",
    "    \n",
    "    return (upper_bound - lower_bound) * float(sum_of_samples/num_samples)"
   ]
  },
  {
   "cell_type": "code",
   "execution_count": 5,
   "metadata": {},
   "outputs": [],
   "source": [
    "def get_crude_MC_variance(num_samples):\n",
    "    \"\"\"\n",
    "    This function returns the variance fo the Crude Monte Carlo.\n",
    "    Note that the inputed number of samples does not neccissarily\n",
    "    need to correspond to number of samples used in the Monte\n",
    "    Carlo Simulation.\n",
    "    Args:\n",
    "    - num_samples (int)\n",
    "    Return:\n",
    "    - Variance for Crude Monte Carlo approximation of f(x) (float)\n",
    "    \"\"\"\n",
    "    int_max = 5 # this is the max of our integration range\n",
    "    \n",
    "    # get the average of squares\n",
    "    running_total = 0\n",
    "    for i in range(num_samples):\n",
    "        x = get_rand_number(0, int_max)\n",
    "        running_total += f_of_x(x)**2\n",
    "    sum_of_sqs = running_total*int_max / num_samples\n",
    "    \n",
    "    # get square of average\n",
    "    running_total = 0\n",
    "    for i in range(num_samples):\n",
    "        x = get_rand_number(0, int_max)\n",
    "        running_total = f_of_x(x)\n",
    "    sq_ave = (int_max*running_total/num_samples)**2\n",
    "    \n",
    "    return sum_of_sqs - sq_ave"
   ]
  },
  {
   "cell_type": "markdown",
   "metadata": {},
   "source": [
    "### Perform the Simulation"
   ]
  },
  {
   "cell_type": "code",
   "execution_count": 6,
   "metadata": {},
   "outputs": [
    {
     "name": "stdout",
     "output_type": "stream",
     "text": [
      "Monte Carlo Approximation of f(x): 0.6825735870437116\n",
      "Variance of Approximation: 0.2760043286191127\n",
      "Error in Approximation: 0.005253611411392288\n"
     ]
    }
   ],
   "source": [
    "# Now we will run a Crude Monte Carlo simulation with 10000 samples\n",
    "# We will also calculate the variance with 10000 samples and the error\n",
    "\n",
    "MC_samples = 10000\n",
    "var_samples = 10000 # number of samples we will use to calculate the variance\n",
    "crude_estimation = crude_monte_carlo(MC_samples)\n",
    "variance = get_crude_MC_variance(var_samples)\n",
    "error = math.sqrt(variance/MC_samples)\n",
    "\n",
    "# display results\n",
    "print(f\"Monte Carlo Approximation of f(x): {crude_estimation}\")\n",
    "print(f\"Variance of Approximation: {variance}\")\n",
    "print(f\"Error in Approximation: {error}\")"
   ]
  },
  {
   "cell_type": "markdown",
   "metadata": {},
   "source": [
    "# Importance Sampling"
   ]
  },
  {
   "cell_type": "markdown",
   "metadata": {},
   "source": [
    "### Determine Optimal Weight Function Template"
   ]
  },
  {
   "cell_type": "code",
   "execution_count": 7,
   "metadata": {},
   "outputs": [
    {
     "data": {
      "image/png": "[encoded data removed]",
      "text/plain": [
       "<Figure size 432x288 with 1 Axes>"
      ]
     },
     "metadata": {
      "needs_background": "light"
     },
     "output_type": "display_data"
    }
   ],
   "source": [
    "# plot the function\n",
    "xs = [float(i/50) for i in range(int(50*PI*2))]\n",
    "ys = [f_of_x(x) for x in xs]\n",
    "plt.plot(xs,ys)\n",
    "plt.title(\"f(x)\");"
   ]
  },
  {
   "cell_type": "code",
   "execution_count": 8,
   "metadata": {},
   "outputs": [],
   "source": [
    "# this is the template of our weight function g(x)\n",
    "def g_of_x(x, A, lamda):\n",
    "    e = 2.71828\n",
    "    return A*math.pow(e, -1*lamda*x)"
   ]
  },
  {
   "cell_type": "code",
   "execution_count": 9,
   "metadata": {},
   "outputs": [
    {
     "data": {
      "image/png": "[encoded data removed]",
      "text/plain": [
       "<Figure size 432x288 with 1 Axes>"
      ]
     },
     "metadata": {
      "needs_background": "light"
     },
     "output_type": "display_data"
    }
   ],
   "source": [
    "xs = [float(i/50) for i in range(int(50*PI))]\n",
    "fs = [f_of_x(x) for x in xs]\n",
    "gs = [g_of_x(x, A=1.4, lamda=1.4) for x in xs]\n",
    "plt.plot(xs, fs)\n",
    "plt.plot(xs, gs)\n",
    "plt.title(\"f(x) and g(x)\");"
   ]
  },
  {
   "cell_type": "markdown",
   "metadata": {},
   "source": [
    "### Determine the Optimal Parameters for Our Weight Function"
   ]
  },
  {
   "cell_type": "code",
   "execution_count": 10,
   "metadata": {},
   "outputs": [],
   "source": [
    "def inverse_G_of_r(r, lamda):\n",
    "    return (-1 * math.log(float(r)))/lamda"
   ]
  },
  {
   "cell_type": "code",
   "execution_count": 11,
   "metadata": {},
   "outputs": [],
   "source": [
    "def get_IS_variance(lamda, num_samples):\n",
    "    \"\"\"\n",
    "    This function calculates the variance if a Monte Carlo\n",
    "    using importance sampling.\n",
    "    Args:\n",
    "    - lamda (float) : lamdba value of g(x) being tested\n",
    "    Return: \n",
    "    - Variance\n",
    "    \"\"\"\n",
    "    A = lamda\n",
    "    int_max = 5\n",
    "    \n",
    "    # get sum of squares\n",
    "    running_total = 0\n",
    "    for i in range(num_samples):\n",
    "        x = get_rand_number(0, int_max)\n",
    "        running_total += (f_of_x(x)/g_of_x(x, A, lamda))**2\n",
    "    \n",
    "    sum_of_sqs = running_total / num_samples\n",
    "    \n",
    "    # get squared average\n",
    "    running_total = 0\n",
    "    for i in range(num_samples):\n",
    "        x = get_rand_number(0, int_max)\n",
    "        running_total += f_of_x(x)/g_of_x(x, A, lamda)\n",
    "    sq_ave = (running_total/num_samples)**2\n",
    "    \n",
    "    \n",
    "    return sum_of_sqs - sq_ave"
   ]
  },
  {
   "cell_type": "code",
   "execution_count": 12,
   "metadata": {},
   "outputs": [
    {
     "name": "stdout",
     "output_type": "stream",
     "text": [
      "Optimal Lambda: 1.6500000000000001\n",
      "Optimal Variance: 0.047331706439842525\n",
      "0.0021755851268070972\n"
     ]
    }
   ],
   "source": [
    "# get variance as a function of lambda by testing many\n",
    "# different lambdas\n",
    "\n",
    "test_lamdas = [i*0.05 for i in range(1, 61)]\n",
    "variances = []\n",
    "\n",
    "for i, lamda in enumerate(test_lamdas):\n",
    "    print(f\"lambda {i+1}/{len(test_lamdas)}: {lamda}\")\n",
    "    A = lamda\n",
    "    variances.append(get_IS_variance(lamda, 10000))\n",
    "    clear_output(wait=True)\n",
    "    \n",
    "optimal_lamda = test_lamdas[np.argmin(np.asarray(variances))]\n",
    "IS_variance = variances[np.argmin(np.asarray(variances))]\n",
    "\n",
    "print(f\"Optimal Lambda: {optimal_lamda}\")\n",
    "print(f\"Optimal Variance: {IS_variance}\")\n",
    "print((IS_variance/10000)**0.5)"
   ]
  },
  {
   "cell_type": "code",
   "execution_count": 13,
   "metadata": {},
   "outputs": [
    {
     "data": {
      "image/png": "[encoded data removed]",
      "text/plain": [
       "<Figure size 432x288 with 1 Axes>"
      ]
     },
     "metadata": {
      "needs_background": "light"
     },
     "output_type": "display_data"
    }
   ],
   "source": [
    "plt.plot(test_lamdas[5:40], variances[5:40])\n",
    "plt.title(\"Variance of MC at Different Lambda Values\");"
   ]
  },
  {
   "cell_type": "markdown",
   "metadata": {},
   "source": [
    "### Perform Importance Sampling Monte Carlo with Optimized Weight Function"
   ]
  },
  {
   "cell_type": "code",
   "execution_count": 14,
   "metadata": {},
   "outputs": [],
   "source": [
    "def importance_sampling_MC(lamda, num_samples):\n",
    "    A = lamda\n",
    "    \n",
    "    running_total = 0\n",
    "    for i in range(num_samples):\n",
    "        r = get_rand_number(0,1)\n",
    "        running_total += f_of_x(inverse_G_of_r(r, lamda=lamda))/g_of_x(inverse_G_of_r(r, lamda=lamda), A, lamda)\n",
    "    approximation = float(running_total/num_samples)\n",
    "    return approximation"
   ]
  },
  {
   "cell_type": "code",
   "execution_count": 15,
   "metadata": {},
   "outputs": [
    {
     "name": "stdout",
     "output_type": "stream",
     "text": [
      "Importance Sampling Approximation: 0.6914517466846765\n",
      "Variance: 0.047556206620151587\n",
      "Error: 0.002180738558840825\n"
     ]
    }
   ],
   "source": [
    "# run simulation\n",
    "num_samples = 10000\n",
    "approx = importance_sampling_MC(optimal_lamda, num_samples)\n",
    "variance = get_IS_variance(optimal_lamda, num_samples)\n",
    "error = (variance/num_samples)**0.5\n",
    "\n",
    "# display results\n",
    "print(f\"Importance Sampling Approximation: {approx}\")\n",
    "print(f\"Variance: {variance}\")\n",
    "print(f\"Error: {error}\")"
   ]
  }
 ],
 "metadata": {
  "kernelspec": {
   "display_name": "Python 3",
   "language": "python",
   "name": "python3"
  },
  "language_info": {
   "codemirror_mode": {
    "name": "ipython",
    "version": 3
   },
   "file_extension": ".py",
   "mimetype": "text/x-python",
   "name": "python",
   "nbconvert_exporter": "python",
   "pygments_lexer": "ipython3",
   "version": "3.7.6"
  }
 },
 "nbformat": 4,
 "nbformat_minor": 2
}
