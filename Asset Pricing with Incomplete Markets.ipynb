{
 "cells": [
  {
   "cell_type": "markdown",
   "metadata": {},
   "source": [
    "# Asset Pricing with Incomplete Markets\n",
    "\n",
    "\n",
    "<a id='index-0'></a>"
   ]
  },
  {
   "cell_type": "code",
   "execution_count": 1,
   "metadata": {
    "hide-output": false
   },
   "outputs": [
    {
     "name": "stderr",
     "output_type": "stream",
     "text": [
      "C:\\Users\\Diogo\\Anaconda3\\lib\\site-packages\\numba\\np\\ufunc\\parallel.py:355: NumbaWarning: \u001b[1mThe TBB threading layer requires TBB version 2019.5 or later i.e., TBB_INTERFACE_VERSION >= 11005. Found TBB_INTERFACE_VERSION = 10005. The TBB threading layer is disabled.\u001b[0m\n",
      "  warnings.warn(problem)\n"
     ]
    }
   ],
   "source": [
    "import numpy as np\n",
    "import quantecon as qe\n",
    "import scipy.linalg as la"
   ]
  },
  {
   "cell_type": "code",
   "execution_count": 2,
   "metadata": {
    "hide-output": false
   },
   "outputs": [
    {
     "data": {
      "text/plain": [
       "array([[0.57142857, 0.42857143]])"
      ]
     },
     "execution_count": 2,
     "metadata": {},
     "output_type": "execute_result"
    }
   ],
   "source": [
    "qa = np.array([[1/2, 1/2], [2/3, 1/3]])\n",
    "qb = np.array([[2/3, 1/3], [1/4, 3/4]])\n",
    "mca = qe.MarkovChain(qa)\n",
    "mcb = qe.MarkovChain(qb)\n",
    "mca.stationary_distributions"
   ]
  },
  {
   "cell_type": "code",
   "execution_count": 3,
   "metadata": {
    "hide-output": false
   },
   "outputs": [
    {
     "data": {
      "text/plain": [
       "array([[0.42857143, 0.57142857]])"
      ]
     },
     "execution_count": 3,
     "metadata": {},
     "output_type": "execute_result"
    }
   ],
   "source": [
    "mcb.stationary_distributions"
   ]
  },
  {
   "cell_type": "code",
   "execution_count": 4,
   "metadata": {
    "hide-output": false
   },
   "outputs": [],
   "source": [
    "def price_single_beliefs(transition, dividend_payoff, β=.75):\n",
    "    \"\"\"\n",
    "    Function to Solve Single Beliefs\n",
    "    \"\"\"\n",
    "    # First compute inverse piece\n",
    "    imbq_inv = la.inv(np.eye(transition.shape[0]) - β * transition)\n",
    "\n",
    "    # Next compute prices\n",
    "    prices = β * imbq_inv @ transition @ dividend_payoff\n",
    "\n",
    "    return prices"
   ]
  },
  {
   "cell_type": "code",
   "execution_count": 5,
   "metadata": {
    "hide-output": false
   },
   "outputs": [],
   "source": [
    "def price_optimistic_beliefs(transitions, dividend_payoff, β=.75,\n",
    "                            max_iter=50000, tol=1e-16):\n",
    "    \"\"\"\n",
    "    Function to Solve Optimistic Beliefs\n",
    "    \"\"\"\n",
    "    # We will guess an initial price vector of [0, 0]\n",
    "    p_new = np.array([[0], [0]])\n",
    "    p_old = np.array([[10.], [10.]])\n",
    "\n",
    "    # We know this is a contraction mapping, so we can iterate to conv\n",
    "    for i in range(max_iter):\n",
    "        p_old = p_new\n",
    "        p_new = β * np.max([q @ p_old\n",
    "                            + q @ dividend_payoff for q in transitions],\n",
    "                            1)\n",
    "\n",
    "        # If we succeed in converging, break out of for loop\n",
    "        if np.max(np.sqrt((p_new - p_old)**2)) < tol:\n",
    "            break\n",
    "\n",
    "    ptwiddle = β * np.min([q @ p_old\n",
    "                          + q @ dividend_payoff for q in transitions],\n",
    "                          1)\n",
    "\n",
    "    phat_a = np.array([p_new[0], ptwiddle[1]])\n",
    "    phat_b = np.array([ptwiddle[0], p_new[1]])\n",
    "\n",
    "    return p_new, phat_a, phat_b"
   ]
  },
  {
   "cell_type": "code",
   "execution_count": 6,
   "metadata": {
    "hide-output": false
   },
   "outputs": [],
   "source": [
    "def price_pessimistic_beliefs(transitions, dividend_payoff, β=.75,\n",
    "                            max_iter=50000, tol=1e-16):\n",
    "    \"\"\"\n",
    "    Function to Solve Pessimistic Beliefs\n",
    "    \"\"\"\n",
    "    # We will guess an initial price vector of [0, 0]\n",
    "    p_new = np.array([[0], [0]])\n",
    "    p_old = np.array([[10.], [10.]])\n",
    "\n",
    "    # We know this is a contraction mapping, so we can iterate to conv\n",
    "    for i in range(max_iter):\n",
    "        p_old = p_new\n",
    "        p_new = β * np.min([q @ p_old\n",
    "                            + q @ dividend_payoff for q in transitions],\n",
    "                           1)\n",
    "\n",
    "        # If we succeed in converging, break out of for loop\n",
    "        if np.max(np.sqrt((p_new - p_old)**2)) < tol:\n",
    "            break\n",
    "\n",
    "    return p_new"
   ]
  },
  {
   "cell_type": "code",
   "execution_count": 7,
   "metadata": {
    "hide-output": false
   },
   "outputs": [
    {
     "name": "stdout",
     "output_type": "stream",
     "text": [
      "p_a\n",
      "====================\n",
      "State 0: [1.33]\n",
      "State 1: [1.22]\n",
      "--------------------\n",
      "p_b\n",
      "====================\n",
      "State 0: [1.45]\n",
      "State 1: [1.91]\n",
      "--------------------\n",
      "p_optimistic\n",
      "====================\n",
      "State 0: [1.85]\n",
      "State 1: [2.08]\n",
      "--------------------\n",
      "p_pessimistic\n",
      "====================\n",
      "State 0: [1.]\n",
      "State 1: [1.]\n",
      "--------------------\n"
     ]
    }
   ],
   "source": [
    "qa = np.array([[1/2, 1/2], [2/3, 1/3]])    # Type a transition matrix\n",
    "qb = np.array([[2/3, 1/3], [1/4, 3/4]])    # Type b transition matrix\n",
    "# Optimistic investor transition matrix\n",
    "qopt = np.array([[1/2, 1/2], [1/4, 3/4]])\n",
    "# Pessimistic investor transition matrix\n",
    "qpess = np.array([[2/3, 1/3], [2/3, 1/3]])\n",
    "\n",
    "dividendreturn = np.array([[0], [1]])\n",
    "\n",
    "transitions = [qa, qb, qopt, qpess]\n",
    "labels = ['p_a', 'p_b', 'p_optimistic', 'p_pessimistic']\n",
    "\n",
    "for transition, label in zip(transitions, labels):\n",
    "    print(label)\n",
    "    print(\"=\" * 20)\n",
    "    s0, s1 = np.round(price_single_beliefs(transition, dividendreturn), 2)\n",
    "    print(f\"State 0: {s0}\")\n",
    "    print(f\"State 1: {s1}\")\n",
    "    print(\"-\" * 20)"
   ]
  },
  {
   "cell_type": "code",
   "execution_count": 8,
   "metadata": {
    "hide-output": false
   },
   "outputs": [
    {
     "name": "stdout",
     "output_type": "stream",
     "text": [
      "p_optimistic\n",
      "====================\n",
      "State 0: [1.85]\n",
      "State 1: [2.08]\n",
      "--------------------\n",
      "p_hat_a\n",
      "====================\n",
      "State 0: [1.85]\n",
      "State 1: [1.69]\n",
      "--------------------\n",
      "p_hat_b\n",
      "====================\n",
      "State 0: [1.69]\n",
      "State 1: [2.08]\n",
      "--------------------\n"
     ]
    }
   ],
   "source": [
    "opt_beliefs = price_optimistic_beliefs([qa, qb], dividendreturn)\n",
    "labels = ['p_optimistic', 'p_hat_a', 'p_hat_b']\n",
    "\n",
    "for p, label in zip(opt_beliefs, labels):\n",
    "    print(label)\n",
    "    print(\"=\" * 20)\n",
    "    s0, s1 = np.round(p, 2)\n",
    "    print(f\"State 0: {s0}\")\n",
    "    print(f\"State 1: {s1}\")\n",
    "    print(\"-\" * 20)"
   ]
  }
 ],
 "metadata": {
  "date": 1592456485.8383846,
  "filename": "harrison_kreps.rst",
  "kernelspec": {
   "display_name": "Python 3",
   "language": "python",
   "name": "python3"
  },
  "language_info": {
   "codemirror_mode": {
    "name": "ipython",
    "version": 3
   },
   "file_extension": ".py",
   "mimetype": "text/x-python",
   "name": "python",
   "nbconvert_exporter": "python",
   "pygments_lexer": "ipython3",
   "version": "3.7.6"
  },
  "next_doc": {
   "link": "index_data_and_empirics",
   "title": "Data and Empirics"
  },
  "prev_doc": {
   "link": "markov_asset",
   "title": "Asset Pricing: Finite State Models"
  },
  "title": "Asset Pricing with Incomplete Markets"
 },
 "nbformat": 4,
 "nbformat_minor": 2
}
