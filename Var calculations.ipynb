{
 "cells": [
  {
   "cell_type": "code",
   "execution_count": 4,
   "metadata": {},
   "outputs": [
    {
     "name": "stdout",
     "output_type": "stream",
     "text": [
      "Value-at-Risk: $56503.10\n"
     ]
    }
   ],
   "source": [
    "# var.py\n",
    "\n",
    "import datetime\n",
    "import numpy as np\n",
    "import pandas_datareader as web\n",
    "from scipy.stats import norm\n",
    "\n",
    "\n",
    "def var_cov_var(P, c, mu, sigma):\n",
    "    \"\"\"\n",
    "    Variance-Covariance calculation of daily Value-at-Risk\n",
    "    using confidence level c, with mean of returns mu\n",
    "    and standard deviation of returns sigma, on a portfolio\n",
    "    of value P.\n",
    "    \"\"\"\n",
    "    alpha = norm.ppf(1-c, mu, sigma)\n",
    "    return P - P*(alpha + 1)\n",
    "\n",
    "if __name__ == \"__main__\":\n",
    "    start = datetime.datetime(2010, 1, 1)\n",
    "    end = datetime.datetime(2014, 1, 1)\n",
    "\n",
    "    citi = web.DataReader(\"C\", 'yahoo', start, end)\n",
    "    citi[\"rets\"] = citi[\"Adj Close\"].pct_change()\n",
    "\n",
    "    P = 1e6   # 1,000,000 USD\n",
    "    c = 0.99  # 99% confidence interval\n",
    "    mu = np.mean(citi[\"rets\"])\n",
    "    sigma = np.std(citi[\"rets\"])\n",
    "\n",
    "    var = var_cov_var(P, c, mu, sigma)\n",
    "    print (\"Value-at-Risk: $%0.2f\" % var)"
   ]
  },
  {
   "cell_type": "code",
   "execution_count": null,
   "metadata": {},
   "outputs": [],
   "source": []
  }
 ],
 "metadata": {
  "kernelspec": {
   "display_name": "Python 3",
   "language": "python",
   "name": "python3"
  },
  "language_info": {
   "codemirror_mode": {
    "name": "ipython",
    "version": 3
   },
   "file_extension": ".py",
   "mimetype": "text/x-python",
   "name": "python",
   "nbconvert_exporter": "python",
   "pygments_lexer": "ipython3",
   "version": "3.7.6"
  }
 },
 "nbformat": 4,
 "nbformat_minor": 4
}
