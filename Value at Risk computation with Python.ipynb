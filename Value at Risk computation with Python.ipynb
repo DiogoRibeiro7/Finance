{
 "cells": [
  {
   "cell_type": "code",
   "execution_count": 1,
   "metadata": {},
   "outputs": [
    {
     "name": "stderr",
     "output_type": "stream",
     "text": [
      "C:\\Users\\Diogo\\Anaconda3\\lib\\site-packages\\pandas_datareader\\compat\\__init__.py:7: FutureWarning: pandas.util.testing is deprecated. Use the functions in the public API at pandas.testing instead.\n",
      "  from pandas.util.testing import assert_frame_equal\n"
     ]
    },
    {
     "name": "stdout",
     "output_type": "stream",
     "text": [
      "[*********************100%***********************]  1 of 1 completed\n",
      "                   Open         High          Low        Close    Adj Close  \\\n",
      "Date                                                                          \n",
      "2010-01-04   312.304413   313.579620   310.954468   312.204773   312.204773   \n",
      "2010-01-05   312.418976   312.747742   309.609497   310.829926   310.829926   \n",
      "2010-01-06   311.761444   311.761444   302.047852   302.994293   302.994293   \n",
      "2010-01-07   303.562164   303.861053   295.218445   295.940735   295.940735   \n",
      "2010-01-08   294.894653   300.498657   293.455048   299.885956   299.885956   \n",
      "...                 ...          ...          ...          ...          ...   \n",
      "2020-05-11  1378.280029  1416.530029  1377.151978  1403.260010  1403.260010   \n",
      "2020-05-12  1407.119995  1415.000000  1374.770020  1375.739990  1375.739990   \n",
      "2020-05-13  1377.050049  1385.482056  1328.400024  1349.329956  1349.329956   \n",
      "2020-05-14  1335.020020  1357.420044  1323.910034  1356.130005  1356.130005   \n",
      "2020-05-15  1350.000000  1374.479980  1339.000000  1373.189941  1373.189941   \n",
      "\n",
      "              Volume  \n",
      "Date                  \n",
      "2010-01-04   3927000  \n",
      "2010-01-05   6031900  \n",
      "2010-01-06   7987100  \n",
      "2010-01-07  12876600  \n",
      "2010-01-08   9483900  \n",
      "...              ...  \n",
      "2020-05-11   1412100  \n",
      "2020-05-12   1390600  \n",
      "2020-05-13   1812600  \n",
      "2020-05-14   1603100  \n",
      "2020-05-15   1707700  \n",
      "\n",
      "[2610 rows x 6 columns]\n",
      "                  Close\n",
      "Date                   \n",
      "2010-01-04   312.204773\n",
      "2010-01-05   310.829926\n",
      "2010-01-06   302.994293\n",
      "2010-01-07   295.940735\n",
      "2010-01-08   299.885956\n",
      "...                 ...\n",
      "2020-05-11  1403.260010\n",
      "2020-05-12  1375.739990\n",
      "2020-05-13  1349.329956\n",
      "2020-05-14  1356.130005\n",
      "2020-05-15  1373.189941\n",
      "\n",
      "[2610 rows x 1 columns]\n",
      "                  Close   returns\n",
      "Date                             \n",
      "2010-01-04   312.204773       NaN\n",
      "2010-01-05   310.829926 -0.004404\n",
      "2010-01-06   302.994293 -0.025209\n",
      "2010-01-07   295.940735 -0.023280\n",
      "2010-01-08   299.885956  0.013331\n",
      "...                 ...       ...\n",
      "2020-05-11  1403.260010  0.010725\n",
      "2020-05-12  1375.739990 -0.019611\n",
      "2020-05-13  1349.329956 -0.019197\n",
      "2020-05-14  1356.130005  0.005040\n",
      "2020-05-15  1373.189941  0.012580\n",
      "\n",
      "[2610 rows x 2 columns]\n"
     ]
    },
    {
     "name": "stderr",
     "output_type": "stream",
     "text": [
      "C:\\Users\\Diogo\\Anaconda3\\lib\\site-packages\\ipykernel_launcher.py:23: SettingWithCopyWarning: \n",
      "A value is trying to be set on a copy of a slice from a DataFrame.\n",
      "Try using .loc[row_indexer,col_indexer] = value instead\n",
      "\n",
      "See the caveats in the documentation: https://pandas.pydata.org/pandas-docs/stable/user_guide/indexing.html#returning-a-view-versus-a-copy\n",
      "C:\\Users\\Diogo\\Anaconda3\\lib\\site-packages\\pandas\\plotting\\_matplotlib\\hist.py:309: MatplotlibDeprecationWarning: \n",
      "The 'normed' kwarg was deprecated in Matplotlib 2.1 and will be removed in 3.1. Use 'density' instead.\n",
      "  ax.hist(values, bins=bins, **kwds)\n"
     ]
    },
    {
     "data": {
      "image/png": "[encoded data removed]",
      "text/plain": [
       "<Figure size 432x288 with 1 Axes>"
      ]
     },
     "metadata": {
      "needs_background": "light"
     },
     "output_type": "display_data"
    },
    {
     "name": "stdout",
     "output_type": "stream",
     "text": [
      "VaR 90% Confidence Level:    -0.020206928674110176\n",
      "VaR 95% Confidence Level:    -0.026133794319509084\n",
      "VaR 99% Confidence Level:    -0.03725160858395238\n"
     ]
    }
   ],
   "source": [
    "#One-Asset VaR Computation in Python \n",
    "\n",
    "#Preparation (every library has to be pre-installed with \"pip install *libraryname*\")\n",
    "import pandas as pd\n",
    "import numpy as np\n",
    "import matplotlib.pyplot as plt\n",
    "from matplotlib import mlab\n",
    "import datetime as dt\n",
    "from matplotlib import style\n",
    "pd.core.common.is_list_like = pd.api.types.is_list_like\n",
    "import pandas_datareader as web\n",
    "from scipy.stats import norm\n",
    "import yfinance as yf\n",
    "\n",
    "#Download Google Datas into defined time-period from Yahoo Finance\n",
    "df = yf.download('GOOG', '2010-01-01','2020-05-18')\n",
    "print(df)\n",
    "\n",
    "df = df[['Close']]\n",
    "print(df)\n",
    "\n",
    "#Returns computation \n",
    "df['returns'] = df.Close.pct_change()\n",
    "print(df)\n",
    "\n",
    "mean = np.mean(df['returns'])\n",
    "std_dev = np.std(df['returns'])\n",
    "df['returns'].hist(bins=40, normed=True, histtype='stepfilled', alpha=0.5)\n",
    "x = np.linspace(mean - 3*std_dev, mean + 3*std_dev, 100)\n",
    "plt.plot(x,norm.pdf(x, mean, std_dev), \"r\" )\n",
    "plt.show()\n",
    "\n",
    "#VaR Computation \n",
    "VaR_90 = norm.ppf(1-0.9, mean, std_dev)\n",
    "VaR_95 = norm.ppf(1-0.95, mean, std_dev)\n",
    "VaR_99 = norm.ppf(1-0.99, mean, std_dev)\n",
    "\n",
    "print('VaR 90% Confidence Level:   ', VaR_90)\n",
    "print('VaR 95% Confidence Level:   ', VaR_95)\n",
    "print('VaR 99% Confidence Level:   ', VaR_99)"
   ]
  },
  {
   "cell_type": "code",
   "execution_count": 2,
   "metadata": {},
   "outputs": [
    {
     "name": "stdout",
     "output_type": "stream",
     "text": [
      "99.99% Actual loss won't exceed:  -18.61%\n",
      "99% Actual loss won't exceed: -5.90%\n",
      "95% Actual loss won't exceed: -3.13%\n",
      "Losses expected to exceed -3.13% 90.95 out of 1819 days\n"
     ]
    }
   ],
   "source": [
    "#Preparation \n",
    "import numpy as np\n",
    "import pandas as pd\n",
    "import quandl\n",
    "import matplotlib.pyplot as plt\n",
    "from matplotlib import style\n",
    "quandl.ApiConfig.api_key = '8bbPKo8xjyoors-yMfr-'\n",
    "\n",
    "#Importing from Quandl API Bank of America Datas (.4 means close prices)\n",
    "ticker = \"WIKI/BAC.4\"\n",
    "df = quandl.get(ticker, start_date=\"2010-12-31\", end_date=\"2020-05-18\", collapse=\"daily\")\n",
    "percentage = df.pct_change()\n",
    "percentage = percentage.dropna(how='any') \n",
    "    \n",
    "#Present the datas in ascending order\n",
    "order_percentage = sorted(percentage[\"Close\"])\n",
    "\n",
    "#print(order_percentage)\n",
    "\n",
    "print (\"99.99% Actual loss won't exceed: \" , \"{0:.2f}%\".format(np.percentile(order_percentage, .01) * 100))\n",
    "print (\"99% Actual loss won't exceed: \" + \"{0:.2f}%\".format(np.percentile(order_percentage, 1) * 100))\n",
    "print (\"95% Actual loss won't exceed: \" + \"{0:.2f}%\".format(np.percentile(order_percentage, 5) * 100))\n",
    "print (\"Losses expected to exceed \" + \"{0:.2f}%\".format(np.percentile(order_percentage, 5) * 100) + \" \" + str(.05*len(percentage)) + \" out of \" + str(len(percentage)) + \" days\")\n",
    "varg = np.percentile(order_percentage, 5)"
   ]
  },
  {
   "cell_type": "code",
   "execution_count": 3,
   "metadata": {},
   "outputs": [
    {
     "name": "stdout",
     "output_type": "stream",
     "text": [
      "            WIKI/BAC - Close  WIKI/AAPL - Close  WIKI/NKE - Close  \\\n",
      "Date                                                                \n",
      "2010-12-31               NaN                NaN               NaN   \n",
      "2011-01-03      63718.140930        8692.956349      23530.789042   \n",
      "2011-01-04       3523.608175        2087.568650     -73876.176095   \n",
      "2011-01-05      18258.426966        3272.057714      19649.874955   \n",
      "2011-01-06      -4137.931034        -323.353293     -26975.863701   \n",
      "...                      ...                ...               ...   \n",
      "2018-03-21      -3439.649781       -9061.858023     -20209.580838   \n",
      "2018-03-22     -41418.261688       -5663.572138     -87264.506405   \n",
      "2018-03-23     -45171.849427       -9251.088276       9779.571562   \n",
      "2018-03-26      43537.881385       18988.723172      58950.951570   \n",
      "2018-03-27     -30223.390276      -10256.410256      12291.350531   \n",
      "\n",
      "            WIKI/NFLX - Close  WIKI/AMZN - Close  Value of Portfolio  \n",
      "Date                                                                  \n",
      "2010-12-31                NaN                NaN            0.000000  \n",
      "2011-01-03        3084.803643      234444.444444       333471.134408  \n",
      "2011-01-04        3318.199652       42883.508848       -22063.290769  \n",
      "2011-01-05       -1808.457849      130263.229015       169635.130801  \n",
      "2011-01-06       -1936.237690      -83235.513819      -116608.899538  \n",
      "...                       ...                ...                 ...  \n",
      "2018-03-21        -642.519685      -29309.616706       -62663.225034  \n",
      "2018-03-22       -6180.485339     -238706.333051      -379233.158621  \n",
      "2018-03-23       -3756.113466     -314357.878376      -362757.357983  \n",
      "2018-03-26       12899.581312      403193.452620       537570.590059  \n",
      "2018-03-27      -12274.075230     -377990.307611      -418452.832843  \n",
      "\n",
      "[1820 rows x 6 columns]\n",
      "99.99% Actual loss won't exceedd: -1841650.69\n",
      "99% Actual loss won't exceed: -665155.08\n",
      "95% Actual loss won't exceed: -340265.51\n",
      "Losses expected to exceed -340265.51 91.0 out of 1820 days\n"
     ]
    }
   ],
   "source": [
    "#Extending the Dataset to 5 different assets, combining them into a Portfolio with alternative exposures.\n",
    "tickers = [\"WIKI/BAC.4\", \"WIKI/AAPL.4\", \"WIKI/NKE.4\", \"WIKI/NFLX.4\", \"WIKI/AMZN.4\"]\n",
    "exposures = [1000000, 400000, 3000000, 200000, 10000000]\n",
    "df = quandl.get(tickers, start_date=\"2010-12-31\", end_date=\"2020-05-18\", collapse=\"daily\")\n",
    "\n",
    "\n",
    "#Returns computation\n",
    "percentage = df.pct_change()\n",
    "\n",
    "#Different Dollar Exposures into Portfolio\n",
    "value_ptf = percentage * exposures\n",
    "value_ptf['Value of Portfolio'] = value_ptf.sum(axis=1)\n",
    "\n",
    "print(value_ptf)\n",
    "\n",
    "ptf_percentage = value_ptf['Value of Portfolio']\n",
    "ptf_percentage = ptf_percentage.sort_values(axis=0, ascending=True)\n",
    "\n",
    "VaR =  np.percentile(ptf_percentage, .01)\n",
    "VaR1 =  np.percentile(ptf_percentage, 1)\n",
    "VaR2 =  np.percentile(ptf_percentage, 5)\n",
    "\n",
    "print (\"99.99% Actual loss won't exceedd: \" + str(round(VaR, 2)))\n",
    "print (\"99% Actual loss won't exceed: \" + str(round(VaR1, 2)))\n",
    "print (\"95% Actual loss won't exceed: \" + str(round(VaR2, 2))) \n",
    "print (\"Losses expected to exceed \" + \"{0:.2f}\".format(VaR2) + \" \" + str(.05*len(ptf_percentage)) + \" out of \" + str(len(ptf_percentage)) + \" days\")\n",
    "percentage = percentage[1:]"
   ]
  },
  {
   "cell_type": "code",
   "execution_count": null,
   "metadata": {},
   "outputs": [],
   "source": []
  }
 ],
 "metadata": {
  "kernelspec": {
   "display_name": "Python 3",
   "language": "python",
   "name": "python3"
  },
  "language_info": {
   "codemirror_mode": {
    "name": "ipython",
    "version": 3
   },
   "file_extension": ".py",
   "mimetype": "text/x-python",
   "name": "python",
   "nbconvert_exporter": "python",
   "pygments_lexer": "ipython3",
   "version": "3.7.6"
  }
 },
 "nbformat": 4,
 "nbformat_minor": 4
}
